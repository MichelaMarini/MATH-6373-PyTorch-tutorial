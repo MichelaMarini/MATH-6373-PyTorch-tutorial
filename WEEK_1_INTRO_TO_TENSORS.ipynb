{
  "nbformat": 4,
  "nbformat_minor": 0,
  "metadata": {
    "colab": {
      "provenance": [],
      "gpuType": "T4",
      "authorship_tag": "ABX9TyPXq032dBZOwW+UKFL7+mYN",
      "include_colab_link": true
    },
    "kernelspec": {
      "name": "python3",
      "display_name": "Python 3"
    },
    "language_info": {
      "name": "python"
    },
    "accelerator": "GPU"
  },
  "cells": [
    {
      "cell_type": "markdown",
      "metadata": {
        "id": "view-in-github",
        "colab_type": "text"
      },
      "source": [
        "<a href=\"https://colab.research.google.com/github/MichelaMarini/MATH-6373-PyTorch-tutorial/blob/main/WEEK_1_INTRO_TO_TENSORS.ipynb\" target=\"_parent\"><img src=\"https://colab.research.google.com/assets/colab-badge.svg\" alt=\"Open In Colab\"/></a>"
      ]
    },
    {
      "cell_type": "code",
      "execution_count": null,
      "metadata": {
        "id": "aIp6co0xKkjg",
        "colab": {
          "base_uri": "https://localhost:8080/"
        },
        "outputId": "0c04b314-05c9-4766-9520-bd76cdb3473f"
      },
      "outputs": [
        {
          "output_type": "stream",
          "name": "stdout",
          "text": [
            "2.5.1+cu121\n"
          ]
        }
      ],
      "source": [
        "import numpy as np\n",
        "import torch\n",
        "print(torch.__version__)"
      ]
    },
    {
      "cell_type": "markdown",
      "source": [
        "# Creating tensors using existing data"
      ],
      "metadata": {
        "id": "DmkuapPoPrAd"
      }
    },
    {
      "cell_type": "code",
      "source": [
        "data = np.array([0,1,2])\n",
        "print(data, data.dtype) #check the data type"
      ],
      "metadata": {
        "id": "cZy1kTlbKxX6",
        "colab": {
          "base_uri": "https://localhost:8080/"
        },
        "outputId": "0c4ac5aa-88e7-4db6-a02f-05e9c3f9ff65"
      },
      "execution_count": null,
      "outputs": [
        {
          "output_type": "stream",
          "name": "stdout",
          "text": [
            "[0 1 2] int64\n"
          ]
        }
      ]
    },
    {
      "cell_type": "code",
      "source": [
        "data_T = torch.Tensor(data)\n",
        "print(data_T, data_T.dtype) #it may not preserve the original data type or shape in some cases"
      ],
      "metadata": {
        "id": "MKdhd21HK8Lw",
        "colab": {
          "base_uri": "https://localhost:8080/"
        },
        "outputId": "bd8a0c98-5aad-44ce-8af4-c6e753164d03"
      },
      "execution_count": null,
      "outputs": [
        {
          "output_type": "stream",
          "name": "stdout",
          "text": [
            "tensor([0., 1., 2.]) torch.float32\n"
          ]
        }
      ]
    },
    {
      "cell_type": "code",
      "source": [
        "data_t = torch.tensor(data)\n",
        "print(data_t, data_t.dtype) # it ensures that the resulting tensor has the same data type and shape as the input data"
      ],
      "metadata": {
        "id": "9MQvvbnWLagm",
        "colab": {
          "base_uri": "https://localhost:8080/"
        },
        "outputId": "6fcc1f78-f607-4454-c6e0-486d3be38189"
      },
      "execution_count": null,
      "outputs": [
        {
          "output_type": "stream",
          "name": "stdout",
          "text": [
            "tensor([0, 1, 2]) torch.int64\n"
          ]
        }
      ]
    },
    {
      "cell_type": "markdown",
      "source": [
        "**torch.tensor** the created tensor does not share memory with the original NumPy array. It creates a copy of the data.\n",
        "\n",
        "**torch.from_numpy** It creates a tensor that shares the same underlying memory with the NumPy array. It is more memory-efficient as it avoids copying the data.\n",
        "\n",
        "In summary, the main difference is in memory sharing:\n",
        "\n",
        "*   Use *torch.tensor* when you want a new tensor with a copy of the data.\n",
        "*   Use *torch.from_numpy* when you want a tensor that shares the same memory with the NumPy array to save memory and computational cost.\n"
      ],
      "metadata": {
        "id": "_TtZHv_XNtW4"
      }
    },
    {
      "cell_type": "code",
      "source": [
        "data_tensor = torch.from_numpy(data) # specifically designed for NumPy arrays\n",
        "print(data_tensor, data_tensor.dtype)"
      ],
      "metadata": {
        "id": "I6xNWU8sMhnD",
        "colab": {
          "base_uri": "https://localhost:8080/"
        },
        "outputId": "fe04d3fe-6a51-4471-ce98-25d46b014315"
      },
      "execution_count": null,
      "outputs": [
        {
          "output_type": "stream",
          "name": "stdout",
          "text": [
            "tensor([0, 1, 2]) torch.int64\n"
          ]
        }
      ]
    },
    {
      "cell_type": "code",
      "source": [
        "data_tensor_1 = torch.as_tensor(data) #it always avoids creating copy and it can take in any tensor data\n",
        "print(data_tensor_1, data_tensor_1.dtype)"
      ],
      "metadata": {
        "id": "HZnAKTdYOtSe",
        "colab": {
          "base_uri": "https://localhost:8080/"
        },
        "outputId": "61b9efc0-6850-4ce2-e4f2-e2833a2c305d"
      },
      "execution_count": null,
      "outputs": [
        {
          "output_type": "stream",
          "name": "stdout",
          "text": [
            "tensor([0, 1, 2]) torch.int64\n"
          ]
        }
      ]
    },
    {
      "cell_type": "markdown",
      "source": [
        "Example of converting dataframe into tensor"
      ],
      "metadata": {
        "id": "i7mwJkO4T_Zr"
      }
    },
    {
      "cell_type": "code",
      "source": [
        "import pandas as pd\n",
        "\n",
        "# Create data for the DataFrame\n",
        "data = {\n",
        "    'Person': ['Alice', 'Bob', 'Charlie'],\n",
        "    'The Burger Joint': np.random.randint(0, 6, size=3),\n",
        "    'Whataburger': np.random.randint(0, 6, size=3),\n",
        "    \"McDonald's\": np.random.randint(0, 6, size=3)\n",
        "}\n",
        "\n",
        "# Create the DataFrame\n",
        "df = pd.DataFrame(data)\n",
        "\n",
        "# Extract the numerical values from the DataFrame\n",
        "tensor_data = df.iloc[:, 1:].values\n",
        "\n",
        "# Convert the NumPy array to a PyTorch tensor\n",
        "torch_tensor = torch.tensor(tensor_data)\n",
        "\n",
        "# Display the original DataFrame and the PyTorch tensor\n",
        "print(\"Original DataFrame:\")\n",
        "print(df)\n",
        "\n",
        "print(\"\\nPyTorch Tensor:\")\n",
        "print(torch_tensor)"
      ],
      "metadata": {
        "id": "zqZBs8PuUErR",
        "colab": {
          "base_uri": "https://localhost:8080/"
        },
        "outputId": "627c1f06-bbd8-40db-a04b-d2b6b103120b"
      },
      "execution_count": null,
      "outputs": [
        {
          "output_type": "stream",
          "name": "stdout",
          "text": [
            "Original DataFrame:\n",
            "    Person  The Burger Joint  Whataburger  McDonald's\n",
            "0    Alice                 0            0           0\n",
            "1      Bob                 5            0           4\n",
            "2  Charlie                 2            3           5\n",
            "\n",
            "PyTorch Tensor:\n",
            "tensor([[0, 0, 0],\n",
            "        [5, 0, 4],\n",
            "        [2, 3, 5]])\n"
          ]
        }
      ]
    },
    {
      "cell_type": "markdown",
      "source": [
        "**Example of converting image into tensor**\n",
        "\n",
        "\n",
        "\n",
        "*   *transforms.ToTensor()* is specifically designed for converting images to PyTorch tensors with appropriate scaling\n",
        "*   *torch.as_tensor()* is a general-purpose function for creating tensors from various types of data"
      ],
      "metadata": {
        "id": "7z582mWUQN5L"
      }
    },
    {
      "cell_type": "code",
      "source": [
        "from PIL import Image, ImageDraw\n",
        "from IPython.display import display\n",
        "import torchvision.transforms as transforms\n",
        "\n",
        "# Create a new image with a black background\n",
        "width, height = 400, 300\n",
        "background_color = (0, 0, 0)\n",
        "image = Image.new(\"RGB\", (width, height), background_color)\n",
        "\n",
        "# Create a draw object\n",
        "draw = ImageDraw.Draw(image)\n",
        "\n",
        "# Draw a red rectangle on the image\n",
        "rectangle_color = (0, 255, 0)\n",
        "rectangle_coordinates = [(50, 50), (350, 250)]\n",
        "draw.rectangle(rectangle_coordinates, fill=rectangle_color)\n",
        "\n",
        "# Display the image\n",
        "display(image)\n",
        "print(type(image))\n",
        "\n",
        "# Define the transform to convert the image to a PyTorch tensor\n",
        "transform = transforms.ToTensor()\n",
        "\n",
        "# Apply the transform to convert the image to a PyTorch tensor\n",
        "tensor_image = transform(image)\n",
        "\n",
        "# Display the tensor shape\n",
        "print(\"Tensor shape:\", tensor_image.shape) #shape: #of channels, width, heigth"
      ],
      "metadata": {
        "id": "RmLi1fIyQAf9",
        "colab": {
          "base_uri": "https://localhost:8080/",
          "height": 352
        },
        "outputId": "a54e5366-2f60-4885-930d-776198f5663f"
      },
      "execution_count": null,
      "outputs": [
        {
          "output_type": "display_data",
          "data": {
            "text/plain": [
              "<PIL.Image.Image image mode=RGB size=400x300>"
            ],
            "image/png": "[encoded data removed]",
            "image/jpeg": "[encoded data removed]"
          },
          "metadata": {}
        },
        {
          "output_type": "stream",
          "name": "stdout",
          "text": [
            "<class 'PIL.Image.Image'>\n",
            "Tensor shape: torch.Size([3, 300, 400])\n"
          ]
        }
      ]
    },
    {
      "cell_type": "markdown",
      "source": [
        "# 🐧 Converting a DataFrame to a PyTorch Tensor  \n",
        "\n",
        "In this exercise, you will work with the **penguins** dataset, which is available in the `seaborn` library and can be found [here](https://github.com/mwaskom/seaborn-data/blob/master/penguins.csv).  \n",
        "\n",
        "## **Instructions**  \n",
        "1. **Import the necessary libraries**: You will need `seaborn`, `pandas`, and `torch`.  \n",
        "2. **Load the dataset**: Use `sns.load_dataset(\"penguins\")` to load the dataset into a pandas DataFrame.  \n",
        "3. **Print the data types of each column** before and after handling missing values.  \n",
        "4. **Handle missing values**: Remove any rows that contain NaN values using `dropna()`.  \n",
        "5. **Select numerical columns only**: Extract columns with numeric data types (`float64` and `int64`).  \n",
        "6. **Convert the DataFrame to a PyTorch tensor**: Use `torch.tensor()` to transform the numerical data into a tensor with `dtype=torch.float32`.  \n",
        "7. **Print the shape of the resulting tensor** to verify its dimensions.  \n",
        "\n"
      ],
      "metadata": {
        "id": "QtxoPaisjupi"
      }
    },
    {
      "cell_type": "code",
      "source": [
        "import seaborn as sns\n",
        "import torch\n",
        "import pandas as pd\n",
        "\n",
        "# Step 1-3: Load the dataset, print the dataset\n",
        "df = sns.load_dataset(\"penguins\")\n",
        "sns.histplot(data=df, x=\"flipper_length_mm\", hue=\"species\", multiple=\"stack\")\n",
        "\n",
        "# Step 4: Drop missing values\n",
        "\n",
        "# Step 5: Select numerical columns\n",
        "\n",
        "\n",
        "# Step 6: Convert to PyTorch tensor\n",
        "\n",
        "\n",
        "# Step 7: Print the shape\n"
      ],
      "metadata": {
        "colab": {
          "base_uri": "https://localhost:8080/",
          "height": 1000
        },
        "id": "3_3GV_aAixDx",
        "outputId": "3ccef8a3-d0b8-4d33-8495-bc21e2cc127e"
      },
      "execution_count": null,
      "outputs": [
        {
          "output_type": "stream",
          "name": "stdout",
          "text": [
            "    species     island  bill_length_mm  bill_depth_mm  flipper_length_mm  \\\n",
            "0    Adelie  Torgersen            39.1           18.7              181.0   \n",
            "1    Adelie  Torgersen            39.5           17.4              186.0   \n",
            "2    Adelie  Torgersen            40.3           18.0              195.0   \n",
            "3    Adelie  Torgersen             NaN            NaN                NaN   \n",
            "4    Adelie  Torgersen            36.7           19.3              193.0   \n",
            "..      ...        ...             ...            ...                ...   \n",
            "339  Gentoo     Biscoe             NaN            NaN                NaN   \n",
            "340  Gentoo     Biscoe            46.8           14.3              215.0   \n",
            "341  Gentoo     Biscoe            50.4           15.7              222.0   \n",
            "342  Gentoo     Biscoe            45.2           14.8              212.0   \n",
            "343  Gentoo     Biscoe            49.9           16.1              213.0   \n",
            "\n",
            "     body_mass_g     sex  \n",
            "0         3750.0    Male  \n",
            "1         3800.0  Female  \n",
            "2         3250.0  Female  \n",
            "3            NaN     NaN  \n",
            "4         3450.0  Female  \n",
            "..           ...     ...  \n",
            "339          NaN     NaN  \n",
            "340       4850.0  Female  \n",
            "341       5750.0    Male  \n",
            "342       5200.0  Female  \n",
            "343       5400.0    Male  \n",
            "\n",
            "[344 rows x 7 columns]\n",
            "species               object\n",
            "island                object\n",
            "bill_length_mm       float64\n",
            "bill_depth_mm        float64\n",
            "flipper_length_mm    float64\n",
            "body_mass_g          float64\n",
            "sex                   object\n",
            "dtype: object\n",
            "torch.Size([333, 4])\n"
          ]
        },
        {
          "output_type": "display_data",
          "data": {
            "text/plain": [
              "<Figure size 640x480 with 1 Axes>"
            ],
            "image/png": "[encoded data removed]"
          },
          "metadata": {}
        }
      ]
    },
    {
      "cell_type": "markdown",
      "source": [
        "# Creating tensors without existing data"
      ],
      "metadata": {
        "id": "gvajifI0P1s4"
      }
    },
    {
      "cell_type": "code",
      "source": [
        "first_tensor= torch.zeros(4,1)\n",
        "print(\"first\", first_tensor, first_tensor.dtype, first_tensor.shape)\n",
        "\n",
        "second_tensor = torch.ones(2)  #return with 2 = number of rows and columns\n",
        "print(\"second\", second_tensor, second_tensor.dtype, second_tensor.shape)\n",
        "\n",
        "\n",
        "third_tensor = torch.eye(3)  #return identity matrix with 3 = number of rows and columns\n",
        "print(\"third\", third_tensor, third_tensor.dtype, third_tensor.shape)\n",
        "\n",
        "\n",
        "fourth_tensor = torch.rand(2,3)\n",
        "print(\"fourth\", fourth_tensor, fourth_tensor.dtype, fourth_tensor.shape)"
      ],
      "metadata": {
        "id": "FWX7vSWmUfPR",
        "colab": {
          "base_uri": "https://localhost:8080/"
        },
        "outputId": "ea880649-af1c-4aa4-c222-5c5d27e469b2"
      },
      "execution_count": null,
      "outputs": [
        {
          "output_type": "stream",
          "name": "stdout",
          "text": [
            "first tensor([[0.],\n",
            "        [0.],\n",
            "        [0.],\n",
            "        [0.]]) torch.float32 torch.Size([4, 1])\n",
            "second tensor([1., 1.]) torch.float32 torch.Size([2])\n",
            "third tensor([[1., 0., 0.],\n",
            "        [0., 1., 0.],\n",
            "        [0., 0., 1.]]) torch.float32 torch.Size([3, 3])\n",
            "fourth tensor([[0.2502, 0.0203, 0.4245],\n",
            "        [0.0035, 0.8579, 0.5552]]) torch.float32 torch.Size([2, 3])\n"
          ]
        }
      ]
    },
    {
      "cell_type": "markdown",
      "source": [
        "# Task: look at the difference between torch.rand and torch.randn\n",
        "\n",
        "\n",
        "1.  torch.rand: Generates random numbers from a uniform distribution between 0 and 1. This means the values will be evenly distributed between 0 and 1, with no bias towards any specific value in that range.\n",
        "\n",
        "2.  torch.randn: Generates random numbers from a normal (Gaussian) distribution with a mean of 0 and a standard deviation of 1.\n",
        "\n",
        "\n"
      ],
      "metadata": {
        "id": "a02QOoNunO-w"
      }
    },
    {
      "cell_type": "code",
      "source": [
        "# specify the dtype\n",
        "new_tensor = torch.tensor(np.array([1,2,3]), dtype=torch.float64)\n",
        "print(new_tensor, new_tensor.shape)"
      ],
      "metadata": {
        "id": "hL3xIH6tVp05",
        "colab": {
          "base_uri": "https://localhost:8080/"
        },
        "outputId": "f85ae64a-3cde-444a-c86c-ee5a71470942"
      },
      "execution_count": null,
      "outputs": [
        {
          "output_type": "stream",
          "name": "stdout",
          "text": [
            "tensor([1., 2., 3.], dtype=torch.float64) torch.Size([3])\n"
          ]
        }
      ]
    },
    {
      "cell_type": "code",
      "source": [
        "#Change the dtype\n",
        "# Example 1: Change dtype to float32\n",
        "float32_tensor = new_tensor.to(torch.float32)\n",
        "print(\"Float32 Tensor:\", float32_tensor, float32_tensor.dtype)\n",
        "\n",
        "# Example 2: Change dtype to int64\n",
        "int64_tensor = new_tensor.to(torch.int64)\n",
        "print(\"Int64 Tensor:\", int64_tensor, int64_tensor.dtype)\n",
        "\n",
        "# Example 3: Change dtype to int32\n",
        "int32_tensor = new_tensor.to(torch.int32)\n",
        "print(\"Int32 Tensor:\", int32_tensor)"
      ],
      "metadata": {
        "id": "oGN4PdLLWZ5C",
        "colab": {
          "base_uri": "https://localhost:8080/"
        },
        "outputId": "671b9e79-efd0-4e71-d243-a34e384d6239"
      },
      "execution_count": null,
      "outputs": [
        {
          "output_type": "stream",
          "name": "stdout",
          "text": [
            "Float32 Tensor: tensor([1., 2., 3.]) torch.float32\n",
            "Int64 Tensor: tensor([1, 2, 3]) torch.int64\n",
            "Int32 Tensor: tensor([1, 2, 3], dtype=torch.int32)\n"
          ]
        }
      ]
    },
    {
      "cell_type": "markdown",
      "source": [
        "# Test: Working with NumPy Arrays and PyTorch Tensors\n",
        "Steps:\n",
        "\n",
        "\n",
        "1.   Create a NumPy array: Start by creating a simple NumPy array.\n",
        "2.   Create different PyTorch tensors: Use different methods to create PyTorch tensors from the NumPy array: torch.Tensor(), torch.tensor(), and torch.as_tensor()\n",
        "\n",
        "3. Print the original array and the tensors: Display the NumPy array and the tensors created using the different methods.\n",
        "4. Modify the original array: Change some values in the original NumPy array.\n",
        "5. Print the modified array: Display the modified array and observe how it affects the tensors created earlier.\n",
        "\n",
        "\n",
        "\n",
        "\n"
      ],
      "metadata": {
        "id": "ctj-baQ9oaSZ"
      }
    },
    {
      "cell_type": "code",
      "source": [
        "# 1. Create a numpy array.\n",
        "# 2. Create different PyTorch tensors from the array using different options (torch.Tensor,torch.tensor, torch.as_tensor).\n",
        "# 3. Print the original array and the tensors.\n",
        "# 4. Modify some values in the original array.\n",
        "# 5. Print the modified array and observe how it affects the tensors.\n",
        "\n",
        "#step 1\n",
        "original_array = np.array([0,1,2,3,4])\n",
        "#step 2\n",
        "\n",
        "#step 3\n",
        "#step 4\n",
        "\n",
        "#step 5"
      ],
      "metadata": {
        "id": "CQwJTaQcXHNY",
        "colab": {
          "base_uri": "https://localhost:8080/"
        },
        "outputId": "83226bf4-20c7-4029-fcf3-4f3b0f865357"
      },
      "execution_count": null,
      "outputs": [
        {
          "output_type": "stream",
          "name": "stdout",
          "text": [
            "orig: [0 1 2 3 4]\n",
            "1: tensor([0, 1, 2, 3, 4])\n",
            "2 tensor([0., 1., 2., 3., 4.])\n",
            "3: tensor([0, 1, 2, 3, 4])\n",
            "mod: [   0    1    0    3 1000]\n",
            "1: tensor([0, 1, 2, 3, 4])\n",
            "2 tensor([0., 1., 2., 3., 4.])\n",
            "3: tensor([   0,    1,    0,    3, 1000])\n"
          ]
        }
      ]
    },
    {
      "cell_type": "markdown",
      "source": [
        "# Tensor operations\n",
        "\n",
        "\n",
        "1.   Reshaping tensors\n",
        "2.   Squeezing and Un-squeezing of tensors\n",
        "3.   Concatenating a tensors\n",
        "4.   Flattening of tensors\n",
        "5.   Arithmetic operations\n",
        "\n"
      ],
      "metadata": {
        "id": "UJbaVrh0Y2Hf"
      }
    },
    {
      "cell_type": "code",
      "source": [
        "# 1. Reshaping tensors\n",
        "\n",
        "# Step 1: Initialize a list with 20 elements\n",
        "original_list = list(range(1, 21))\n",
        "\n",
        "# Step 2: Transform the list into a PyTorch tensor\n",
        "tensor_data = torch.tensor(original_list)\n",
        "\n",
        "# Display the original list and the tensor\n",
        "print(\"Original List:\", original_list)\n",
        "print(\"Tensor:\", tensor_data)\n",
        "\n",
        "# Reshaping Examples:\n",
        "# Example 1: Reshape to a 4x5 matrix\n",
        "reshaped_tensor_4x5 = tensor_data.reshape(4, 5)\n",
        "print(\"\\nReshaped Tensor (4x5):\")\n",
        "print(reshaped_tensor_4x5)\n",
        "\n",
        "# Example 2: Reshape to a 2x10 matrix\n",
        "reshaped_tensor_2x10 = tensor_data.view(2, 10)\n",
        "print(\"\\nReshaped Tensor (2x10):\")\n",
        "print(reshaped_tensor_2x10)\n",
        "\n",
        "\n",
        "#check the size and the shape of the tensor\n",
        "print(\"size, shape:\", reshaped_tensor_4x5.size(), reshaped_tensor_4x5.shape)\n",
        "\n",
        "#check the len of the list\n",
        "print(\"len:\", len(reshaped_tensor_4x5)) #it returns the number of rows\n",
        "\n",
        "#find the number of elements\n",
        "print(\"number of elements:\",reshaped_tensor_4x5.numel())"
      ],
      "metadata": {
        "id": "mB82qpI5Y7CC",
        "colab": {
          "base_uri": "https://localhost:8080/"
        },
        "outputId": "7f6485c5-6884-4cef-a419-23befd1ff244"
      },
      "execution_count": null,
      "outputs": [
        {
          "output_type": "stream",
          "name": "stdout",
          "text": [
            "Original List: [1, 2, 3, 4, 5, 6, 7, 8, 9, 10, 11, 12, 13, 14, 15, 16, 17, 18, 19, 20]\n",
            "Tensor: tensor([ 1,  2,  3,  4,  5,  6,  7,  8,  9, 10, 11, 12, 13, 14, 15, 16, 17, 18,\n",
            "        19, 20])\n",
            "\n",
            "Reshaped Tensor (4x5):\n",
            "tensor([[ 1,  2,  3,  4,  5],\n",
            "        [ 6,  7,  8,  9, 10],\n",
            "        [11, 12, 13, 14, 15],\n",
            "        [16, 17, 18, 19, 20]])\n",
            "\n",
            "Reshaped Tensor (2x10):\n",
            "tensor([[ 1,  2,  3,  4,  5,  6,  7,  8,  9, 10],\n",
            "        [11, 12, 13, 14, 15, 16, 17, 18, 19, 20]])\n",
            "size, shape: torch.Size([4, 5]) torch.Size([4, 5])\n",
            "len: 4\n",
            "number of elements: 20\n"
          ]
        }
      ]
    },
    {
      "cell_type": "code",
      "source": [
        "# 2. Squeezing and Un-squeezing of tensors\n",
        "# Example 1: Squeeze operation (remove dimensions with size 1)\n",
        "tensor_data_r = tensor_data.reshape(1,20)\n",
        "squeezed_tensor = tensor_data_r.squeeze()\n",
        "\n",
        "# Example 2: Unsqueeze operation (add a dimension with size 1)\n",
        "unsqueezed_tensor = tensor_data_r.unsqueeze(0)  # Adds a dimension at position 0\n",
        "\n",
        "# Display original, squeezed, and unsqueezed tensors\n",
        "print(\"Original Tensor:\")\n",
        "print(tensor_data_r, tensor_data_r.shape)\n",
        "\n",
        "print(\"\\nSqueezed Tensor:\")\n",
        "print(squeezed_tensor, squeezed_tensor.shape)\n",
        "\n",
        "print(\"\\nUnsqueezed Tensor:\")\n",
        "print(unsqueezed_tensor, unsqueezed_tensor.shape)"
      ],
      "metadata": {
        "id": "VcnFTO8eaPAv",
        "colab": {
          "base_uri": "https://localhost:8080/"
        },
        "outputId": "5d1e1736-8cda-4793-9783-e34fcd3cb1b1"
      },
      "execution_count": null,
      "outputs": [
        {
          "output_type": "stream",
          "name": "stdout",
          "text": [
            "Original Tensor:\n",
            "tensor([[ 1,  2,  3,  4,  5,  6,  7,  8,  9, 10, 11, 12, 13, 14, 15, 16, 17, 18,\n",
            "         19, 20]]) torch.Size([1, 20])\n",
            "\n",
            "Squeezed Tensor:\n",
            "tensor([ 1,  2,  3,  4,  5,  6,  7,  8,  9, 10, 11, 12, 13, 14, 15, 16, 17, 18,\n",
            "        19, 20]) torch.Size([20])\n",
            "\n",
            "Unsqueezed Tensor:\n",
            "tensor([[[ 1,  2,  3,  4,  5,  6,  7,  8,  9, 10, 11, 12, 13, 14, 15, 16, 17,\n",
            "          18, 19, 20]]]) torch.Size([1, 1, 20])\n"
          ]
        }
      ]
    },
    {
      "cell_type": "code",
      "source": [
        "# 3. Concatenating a tensors\n",
        "\n",
        "tensor_1 = torch.tensor([\n",
        "                         [0,1],\n",
        "                         [2,3]])\n",
        "\n",
        "tensor_2 = torch.tensor([\n",
        "                         [4,5],\n",
        "                         [6,7]])\n",
        "# 1) row-wise concatenation\n",
        "conc_tensor = torch.cat((tensor_1,tensor_2), dim=0) # along axis = 0\n",
        "print(\"concatenated tensor:\", conc_tensor, conc_tensor.size())\n",
        "\n",
        "# 2) column-wise concatenation\n",
        "conc_tensor_2 = torch.cat((tensor_1,tensor_2), dim=1) # along axis = 1\n",
        "print(\"concatenated tensor:\", conc_tensor_2, conc_tensor_2.size())\n",
        "\n",
        "tensor_3 = torch.tensor([\n",
        "                        [10,20,30]])\n",
        "print(\"tensor_3:\", tensor_3, tensor_3.size())\n",
        "# to concatenate tensor_1 and tensor_3 the sizes of tensors must match (tensor_1: size 2x2, tensor_3: size 1x3)"
      ],
      "metadata": {
        "id": "pfzQfAHyaRlm",
        "colab": {
          "base_uri": "https://localhost:8080/"
        },
        "outputId": "14db962f-1f4a-435d-981c-21ddb8d37c94"
      },
      "execution_count": null,
      "outputs": [
        {
          "output_type": "stream",
          "name": "stdout",
          "text": [
            "concatenated tensor: tensor([[0, 1],\n",
            "        [2, 3],\n",
            "        [4, 5],\n",
            "        [6, 7]]) torch.Size([4, 2])\n",
            "concatenated tensor: tensor([[0, 1, 4, 5],\n",
            "        [2, 3, 6, 7]]) torch.Size([2, 4])\n",
            "tensor_3: tensor([[10, 20, 30]]) torch.Size([1, 3])\n"
          ]
        }
      ]
    },
    {
      "cell_type": "code",
      "source": [
        "# 4. Flattening of tensors\n",
        "tensor_flatten = torch.flatten(tensor_1)\n",
        "print(\"tensor_flatten:\", tensor_flatten, tensor_flatten.size())\n",
        "\n",
        "# try to concatenate tensor_1 and tensor_3\n",
        "new_tensor_1 = torch.unsqueeze((tensor_flatten), dim=0)\n",
        "print(\"new_tensor_1:\", new_tensor_1, new_tensor_1.size())\n",
        "\n",
        "conc_tensor_new = torch.cat((new_tensor_1,tensor_3), dim=1)\n",
        "print(\"conc_tensor_new:\", conc_tensor_new, conc_tensor_new.size())\n",
        "\n",
        "# Transpose tensor_3\n",
        "tensor_3_transposed = tensor_3.t()\n",
        "print(\"tensor_3_transposed:\", tensor_3_transposed, tensor_3_transposed.size())"
      ],
      "metadata": {
        "id": "63ltY4_uaTYm",
        "colab": {
          "base_uri": "https://localhost:8080/"
        },
        "outputId": "1fa93198-7f71-4387-c5e7-9fbc702dca02"
      },
      "execution_count": null,
      "outputs": [
        {
          "output_type": "stream",
          "name": "stdout",
          "text": [
            "tensor_flatten: tensor([0, 1, 2, 3]) torch.Size([4])\n",
            "new_tensor_1: tensor([[0, 1, 2, 3]]) torch.Size([1, 4])\n",
            "conc_tensor_new: tensor([[ 0,  1,  2,  3, 10, 20, 30]]) torch.Size([1, 7])\n",
            "tensor_3_transposed: tensor([[10],\n",
            "        [20],\n",
            "        [30]]) torch.Size([3, 1])\n"
          ]
        }
      ]
    },
    {
      "cell_type": "code",
      "source": [
        "# 5. Arithmetic operation\n",
        "\n",
        "# 1) sum\n",
        "print(\"original tensors:\", tensor_1, tensor_2)\n",
        "sum_tensor = tensor_1 + tensor_2 # element-wise operations\n",
        "print(\"sum:\", sum_tensor)\n",
        "\n",
        "# Note: element-wise operations can occur only on same size tensor and is scalar component\n",
        "\n",
        "# 2) subtraction\n",
        "sub_tensor = tensor_1 - tensor_2\n",
        "print(\"subtration:\", sub_tensor)\n",
        "\n",
        "# 3) multiplication\n",
        "mul_tensor= tensor_1*tensor_2\n",
        "print(\"multiplication:\", mul_tensor)\n",
        "\n",
        "# 4) division\n",
        "div_tensor = tensor_1 / tensor_2\n",
        "print(\"division:\", div_tensor)"
      ],
      "metadata": {
        "id": "dHFeejL6KGZG",
        "colab": {
          "base_uri": "https://localhost:8080/"
        },
        "outputId": "96fe4921-0bb8-462f-d2e4-0a0aed9a1e37"
      },
      "execution_count": null,
      "outputs": [
        {
          "output_type": "stream",
          "name": "stdout",
          "text": [
            "original tensors: tensor([[0, 1],\n",
            "        [2, 3]]) tensor([[4, 5],\n",
            "        [6, 7]])\n",
            "sum: tensor([[ 4,  6],\n",
            "        [ 8, 10]])\n",
            "subtration: tensor([[-4, -4],\n",
            "        [-4, -4]])\n",
            "multiplication: tensor([[ 0,  5],\n",
            "        [12, 21]])\n",
            "division: tensor([[0.0000, 0.2000],\n",
            "        [0.3333, 0.4286]])\n"
          ]
        }
      ]
    },
    {
      "cell_type": "code",
      "source": [
        "# Question: how we can add 11 to the element in position row 1, column 2 of tensor_1?\n"
      ],
      "metadata": {
        "id": "QzVImvB3LOjE",
        "colab": {
          "base_uri": "https://localhost:8080/"
        },
        "outputId": "984b1233-2445-4dd0-bccb-9bf0db79b413"
      },
      "execution_count": null,
      "outputs": [
        {
          "output_type": "stream",
          "name": "stdout",
          "text": [
            "Shape of tensor_1: torch.Size([2, 2])\n",
            "tensor([[ 0, 12],\n",
            "        [ 2,  3]])\n"
          ]
        }
      ]
    },
    {
      "cell_type": "markdown",
      "source": [
        "**Comparision operations**: it is a type of element-wise comparision, where the result is given out as a boolean of either 0 (False) or 1 (True)\n"
      ],
      "metadata": {
        "id": "bnB7J9KGMNzb"
      }
    },
    {
      "cell_type": "code",
      "source": [
        "t = torch.tensor([[10,20,30],\n",
        "                  [40,50,60]])\n",
        "print(\"t:\", t, t.size())\n",
        "\n",
        "equal_to = t.eq(10)\n",
        "print(\"equal to:\", equal_to)\n",
        "\n",
        "greater_than_equal_to = t.ge(30)\n",
        "print(\"greater than equal to:\", greater_than_equal_to)\n",
        "\n",
        "greater_than = t.gt(30)\n",
        "print(\"greater than:\", greater_than)\n",
        "\n",
        "less_than_equal_to = t.le(20)\n",
        "print(\"less than equal to:\", less_than_equal_to)\n",
        "\n",
        "less_than = t.lt(20)\n",
        "print(\"less than:\", less_than)"
      ],
      "metadata": {
        "id": "eFY3R_tWOGih",
        "colab": {
          "base_uri": "https://localhost:8080/"
        },
        "outputId": "91b64d45-1e46-418c-8e01-a71fcde78d51"
      },
      "execution_count": null,
      "outputs": [
        {
          "output_type": "stream",
          "name": "stdout",
          "text": [
            "t: tensor([[10, 20, 30],\n",
            "        [40, 50, 60]]) torch.Size([2, 3])\n",
            "equal to: tensor([[ True, False, False],\n",
            "        [False, False, False]])\n",
            "greater than equal to: tensor([[False, False,  True],\n",
            "        [ True,  True,  True]])\n",
            "greater than: tensor([[False, False, False],\n",
            "        [ True,  True,  True]])\n",
            "less than equal to: tensor([[ True,  True, False],\n",
            "        [False, False, False]])\n",
            "less than: tensor([[ True, False, False],\n",
            "        [False, False, False]])\n"
          ]
        }
      ]
    },
    {
      "cell_type": "markdown",
      "source": [
        "Some useful functions:"
      ],
      "metadata": {
        "id": "4rNXgpFHRTya"
      }
    },
    {
      "cell_type": "code",
      "source": [
        "print(\"t:\", t, t.size())\n",
        "\n",
        "# absolute value\n",
        "print(\"abs value:\",t.abs())\n",
        "\n",
        "# square root\n",
        "print(\"square root:\",t.sqrt())\n",
        "\n",
        "# negation\n",
        "print(\"negation:\",t.neg())\n",
        "\n",
        "# mean\n",
        "# to calculate the mean, the tensor dtype must be either a floating point or complex dtype\n",
        "# Convert the tensor to float32\n",
        "t_float = t.float()\n",
        "\n",
        "print(\"mean:\", t_float.mean())\n",
        "\n",
        "#std\n",
        "print(\"std:\", t_float.std())\n",
        "\n",
        "# sum at certain columns/rows\n",
        "print(\"sum row 0:\", t[0].sum())\n",
        "print(\"sum row 1:\", t[1].sum())\n",
        "\n",
        "print(\"sum each row\", t.sum(dim=0))\n",
        "print(\"sum each column\", t.sum(dim=1))\n",
        "\n",
        "# find the max value, min value\n",
        "print(\"max:\", t.max())\n",
        "print(\"max value in row 1:\", t[0].max())\n",
        "print(\"min:\", t.min())\n",
        "print(\"min value in column 1:\", t[:, 0].min())\n",
        "print(\"index of the max value:\", t.argmax()) #it flatten the tensor\n",
        "print(\"index of the max value:\", torch.argmax(t, dim=1).numpy()) #need to specify the dimension"
      ],
      "metadata": {
        "id": "oBEdD1IeSOAn",
        "colab": {
          "base_uri": "https://localhost:8080/"
        },
        "outputId": "fd8a8f43-7517-4916-e9a4-9411ba883b7c"
      },
      "execution_count": null,
      "outputs": [
        {
          "output_type": "stream",
          "name": "stdout",
          "text": [
            "t: tensor([[10, 20, 30],\n",
            "        [40, 50, 60]]) torch.Size([2, 3])\n",
            "abs value: tensor([[10, 20, 30],\n",
            "        [40, 50, 60]])\n",
            "square root: tensor([[3.1623, 4.4721, 5.4772],\n",
            "        [6.3246, 7.0711, 7.7460]])\n",
            "negation: tensor([[-10, -20, -30],\n",
            "        [-40, -50, -60]])\n",
            "mean: tensor(35.)\n",
            "std: tensor(18.7083)\n",
            "sum row 0: tensor(60)\n",
            "sum row 1: tensor(150)\n",
            "sum each row tensor([50, 70, 90])\n",
            "sum each column tensor([ 60, 150])\n",
            "max: tensor(60)\n",
            "max value in row 1: tensor(30)\n",
            "min: tensor(10)\n",
            "min value in column 1: tensor(10)\n",
            "index of the max value: tensor(5)\n",
            "index of the max value: [2 2]\n"
          ]
        }
      ]
    },
    {
      "cell_type": "markdown",
      "source": [
        "# Moving tensors to the GPU\n",
        "\n",
        "PyTorch tensors also can be stored in a different kind of processor: a Graphics Processing Unit (GPU). Every PyTorch tensor can be transferred to (one of) the GPU(s) in order to perform massively parallel, fast computations. All operations that will be performed on the tensor will be carried out using the GPU-specific routines that come with PyTorch."
      ],
      "metadata": {
        "id": "DSeuPYscuCLq"
      }
    },
    {
      "cell_type": "code",
      "source": [
        "import torch\n",
        "import sys\n",
        "\n",
        "#Create a tensor to GPU\n",
        "tensor_gpu = torch.tensor([[1,2,3], [0.1,0.2,0.3]], device='cuda')\n",
        "\n",
        "# Print the memory usage of the tensor 't'\n",
        "print(\"Memory Allocated for 't':\", sys.getsizeof(t) / (1024 ** 2), \"MB\")\n",
        "\n",
        "# Move the tensor to GPU\n",
        "if torch.cuda.is_available():\n",
        "\n",
        "    gpu_tensor = t.to('cuda')\n",
        "    # Alternatively, you can use gpu_tensor = t.cuda()\n",
        "\n",
        "    # Print the tensors to verify the move\n",
        "    print(\"CPU Tensor:\", t)\n",
        "    print(\"GPU Tensor:\", gpu_tensor)\n",
        "\n",
        "     # Check GPU memory usage\n",
        "    print(\"GPU Memory Allocated:\", torch.cuda.memory_allocated() / (1024 ** 2), \"MB\")\n",
        "    print(\"GPU Max Memory Allocated:\", torch.cuda.max_memory_allocated() / (1024 ** 2), \"MB\")\n",
        "\n",
        "else:\n",
        "    print(\"CUDA not available. Unable to move tensor to GPU.\")"
      ],
      "metadata": {
        "id": "QTcYl0wMuJ1_",
        "colab": {
          "base_uri": "https://localhost:8080/"
        },
        "outputId": "2249736d-526e-4521-d0ca-b905b0c3325a"
      },
      "execution_count": null,
      "outputs": [
        {
          "output_type": "stream",
          "name": "stdout",
          "text": [
            "Memory Allocated for 't': 8.392333984375e-05 MB\n",
            "CPU Tensor: tensor([[10, 20, 30],\n",
            "        [40, 50, 60]])\n",
            "GPU Tensor: tensor([[10, 20, 30],\n",
            "        [40, 50, 60]], device='cuda:0')\n",
            "GPU Memory Allocated: 11.44677734375 MB\n",
            "GPU Max Memory Allocated: 11.44677734375 MB\n"
          ]
        }
      ]
    },
    {
      "cell_type": "code",
      "source": [
        "# Example 1: Operations on GPU\n",
        "\n",
        "import time\n",
        "\n",
        "# Create tensors on CPU\n",
        "cpu_tensor1 = torch.randn(1000, 1000)\n",
        "cpu_tensor2 = torch.randn(1000, 1000)\n",
        "\n",
        "# Move tensors to GPU\n",
        "gpu_tensor1 = cpu_tensor1.to('cuda')\n",
        "gpu_tensor2 = cpu_tensor2.to('cuda')\n",
        "\n",
        "# Measure time for element-wise addition on CPU\n",
        "start_time = time.time()\n",
        "result_cpu = cpu_tensor1 + cpu_tensor2\n",
        "print(\"Time on CPU:\", time.time() - start_time)\n",
        "\n",
        "# Measure time for element-wise addition on GPU\n",
        "start_time = time.time()\n",
        "result_gpu = gpu_tensor1 + gpu_tensor2\n",
        "print(\"Time on GPU:\", time.time() - start_time)"
      ],
      "metadata": {
        "id": "5mNiZRnIlh9k",
        "colab": {
          "base_uri": "https://localhost:8080/"
        },
        "outputId": "ec8c69b2-e6ba-4dd0-918c-5308d6f76a59"
      },
      "execution_count": null,
      "outputs": [
        {
          "output_type": "stream",
          "name": "stdout",
          "text": [
            "Time on CPU: 0.002713918685913086\n",
            "Time on GPU: 0.0012989044189453125\n"
          ]
        }
      ]
    },
    {
      "cell_type": "code",
      "source": [
        "# Example 2: Memory Management\n",
        "\n",
        "# Create tensors on GPU\n",
        "tensor1 = torch.randn(1000, 1000, device='cuda')\n",
        "tensor2 = torch.randn(1000, 1000, device='cuda')\n",
        "\n",
        "# Perform operations on GPU\n",
        "result_tensor = tensor1 + tensor2\n",
        "\n",
        "# Free GPU memory\n",
        "torch.cuda.empty_cache()"
      ],
      "metadata": {
        "id": "3QXQb68SltMB"
      },
      "execution_count": null,
      "outputs": []
    }
  ]
}